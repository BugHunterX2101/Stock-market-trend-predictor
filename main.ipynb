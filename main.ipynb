{
 "cells": [
  {
   "cell_type": "markdown",
   "metadata": {},
   "source": [
    "# Stock Market Predictor using LSTM"
   ]
  },
  {
   "cell_type": "code",
   "execution_count": null,
   "metadata": {},
   "outputs": [],
   "source": [
    "import numpy as np\n",
    "import pandas as pd\n",
    "import matplotlib.pyplot as plt\n",
    "import yfinance as yf\n",
    "from sklearn.preprocessing import MinMaxScaler\n",
    "from tensorflow.keras.models import Sequential\n",
    "from tensorflow.keras.layers import Dense, LSTM, Dropout\n",
    "import warnings\n",
    "warnings.filterwarnings('ignore')"
   ]
  },
  {
   "cell_type": "code",
   "execution_count": null,
   "metadata": {},
   "outputs": [],
   "source": [
    "# Set date range for training data\n",
    "start = '2010-01-01'\n",
    "end = '2019-12-31'\n",
    "\n",
    "# Download Apple stock data\n",
    "print(\"Downloading Apple stock data...\")\n",
    "df = yf.download('AAPL', start, end)\n",
    "print(f\"Data shape: {df.shape}\")\n",
    "print(f\"Columns: {df.columns.tolist()}\")"
   ]
  },
  {
   "cell_type": "code",
   "execution_count": null,
   "metadata": {},
   "outputs": [],
   "source": [
    "# Handle MultiIndex columns if present\n",
    "if isinstance(df.columns, pd.MultiIndex):\n",
    "    df.columns = df.columns.droplevel(1)  # Remove ticker level\n",
    "\n",
    "# Display basic info about the data\n",
    "print(\"Data Info:\")\n",
    "print(df.info())\n",
    "print(\"\\nFirst 5 rows:\")\n",
    "print(df.head())\n",
    "print(\"\\nLast 5 rows:\")\n",
    "print(df.tail())"
   ]
  },
  {
   "cell_type": "code",
   "execution_count": null,
   "metadata": {},
   "outputs": [],
   "source": [
    "# Visualize the closing price\n",
    "plt.figure(figsize=(12, 6))\n",
    "plt.plot(df.index, df['Close'])\n",
    "plt.title('Apple Stock Closing Price (2010-2019)')\n",
    "plt.xlabel('Year')\n",
    "plt.ylabel('Closing Price ($)')\n",
    "plt.grid(True)\n",
    "plt.show()"
   ]
  },
  {
   "cell_type": "code",
   "execution_count": null,
   "metadata": {},
   "outputs": [],
   "source": [
    "# Create moving averages for visualization\n",
    "ma100 = df['Close'].rolling(100).mean()\n",
    "ma200 = df['Close'].rolling(200).mean()\n",
    "\n",
    "plt.figure(figsize=(12, 6))\n",
    "plt.plot(df.index, df['Close'], label='Close Price', alpha=0.7)\n",
    "plt.plot(df.index, ma100, label='100-day MA', alpha=0.8)\n",
    "plt.plot(df.index, ma200, label='200-day MA', alpha=0.8)\n",
    "plt.title('Apple Stock with Moving Averages')\n",
    "plt.xlabel('Year')\n",
    "plt.ylabel('Price ($)')\n",
    "plt.legend()\n",
    "plt.grid(True)\n",
    "plt.show()"
   ]
  },
  {
   "cell_type": "code",
   "execution_count": null,
   "metadata": {},
   "outputs": [],
   "source": [
    "# Prepare data for training\n",
    "# Use only the closing price for prediction\n",
    "data = df[['Close']].values\n",
    "print(f\"Data shape for training: {data.shape}\")\n",
    "\n",
    "# Split data into training and testing\n",
    "training_data_len = int(len(data) * 0.70)\n",
    "train_data = data[:training_data_len]\n",
    "test_data = data[training_data_len:]\n",
    "\n",
    "print(f\"Training data length: {len(train_data)}\")\n",
    "print(f\"Testing data length: {len(test_data)}\")"
   ]
  },
  {
   "cell_type": "code",
   "execution_count": null,
   "metadata": {},
   "outputs": [],
   "source": [
    "# Scale the data\n",
    "scaler = MinMaxScaler(feature_range=(0, 1))\n",
    "scaled_train_data = scaler.fit_transform(train_data)\n",
    "\n",
    "print(f\"Scaled training data shape: {scaled_train_data.shape}\")\n",
    "print(f\"Min value: {scaled_train_data.min()}, Max value: {scaled_train_data.max()}\")"
   ]
  },
  {
   "cell_type": "code",
   "execution_count": null,
   "metadata": {},
   "outputs": [],
   "source": [
    "# Create training dataset with 100 days lookback\n",
    "x_train = []\n",
    "y_train = []\n",
    "time_step = 100\n",
    "\n",
    "for i in range(time_step, len(scaled_train_data)):\n",
    "    x_train.append(scaled_train_data[i-time_step:i, 0])\n",
    "    y_train.append(scaled_train_data[i, 0])\n",
    "\n",
    "x_train, y_train = np.array(x_train), np.array(y_train)\n",
    "\n",
    "# Reshape for LSTM input\n",
    "x_train = np.reshape(x_train, (x_train.shape[0], x_train.shape[1], 1))\n",
    "\n",
    "print(f\"X_train shape: {x_train.shape}\")\n",
    "print(f\"Y_train shape: {y_train.shape}\")"
   ]
  },
  {
   "cell_type": "code",
   "execution_count": null,
   "metadata": {},
   "outputs": [],
   "source": [
    "# Build the LSTM model\n",
    "model = Sequential()\n",
    "\n",
    "# First LSTM layer\n",
    "model.add(LSTM(units=50, return_sequences=True, input_shape=(x_train.shape[1], 1)))\n",
    "model.add(Dropout(0.2))\n",
    "\n",
    "# Second LSTM layer\n",
    "model.add(LSTM(units=50, return_sequences=True))\n",
    "model.add(Dropout(0.2))\n",
    "\n",
    "# Third LSTM layer\n",
    "model.add(LSTM(units=50, return_sequences=True))\n",
    "model.add(Dropout(0.2))\n",
    "\n",
    "# Fourth LSTM layer\n",
    "model.add(LSTM(units=50))\n",
    "model.add(Dropout(0.2))\n",
    "\n",
    "# Output layer\n",
    "model.add(Dense(units=1))\n",
    "\n",
    "print(\"Model architecture:\")\n",
    "model.summary()"
   ]
  },
  {
   "cell_type": "code",
   "execution_count": null,
   "metadata": {},
   "outputs": [],
   "source": [
    "# Compile the model\n",
    "model.compile(optimizer='adam', loss='mean_squared_error')\n",
    "print(\"Model compiled successfully!\")"
   ]
  },
  {
   "cell_type": "code",
   "execution_count": null,
   "metadata": {},
   "outputs": [],
   "source": [
    "# Train the model\n",
    "print(\"Training the model...\")\n",
    "history = model.fit(x_train, y_train, epochs=25, batch_size=32, validation_split=0.1, verbose=1)\n",
    "print(\"Training completed!\")"
   ]
  },
  {
   "cell_type": "code",
   "execution_count": null,
   "metadata": {},
   "outputs": [],
   "source": [
    "# Plot training history\n",
    "plt.figure(figsize=(12, 4))\n",
    "\n",
    "plt.subplot(1, 2, 1)\n",
    "plt.plot(history.history['loss'], label='Training Loss')\n",
    "plt.plot(history.history['val_loss'], label='Validation Loss')\n",
    "plt.title('Model Loss')\n",
    "plt.xlabel('Epoch')\n",
    "plt.ylabel('Loss')\n",
    "plt.legend()\n",
    "\n",
    "plt.tight_layout()\n",
    "plt.show()"
   ]
  },
  {
   "cell_type": "code",
   "execution_count": null,
   "metadata": {},
   "outputs": [],
   "source": [
    "# Save the model\n",
    "model.save('keras_model.h5')\n",
    "print(\"Model saved as 'keras_model.h5'\")"
   ]
  },
  {
   "cell_type": "code",
   "execution_count": null,
   "metadata": {},
   "outputs": [],
   "source": [
    "# Prepare test data\n",
    "# Get the last 100 days from training data\n",
    "last_100_days = train_data[-time_step:]\n",
    "test_inputs = np.concatenate([last_100_days, test_data])\n",
    "test_inputs = scaler.transform(test_inputs)\n",
    "\n",
    "print(f\"Test inputs shape: {test_inputs.shape}\")"
   ]
  },
  {
   "cell_type": "code",
   "execution_count": null,
   "metadata": {},
   "outputs": [],
   "source": [
    "# Create test dataset\n",
    "x_test = []\n",
    "y_test = test_data.flatten()\n",
    "\n",
    "for i in range(time_step, len(test_inputs)):\n",
    "    x_test.append(test_inputs[i-time_step:i, 0])\n",
    "\n",
    "x_test = np.array(x_test)\n",
    "x_test = np.reshape(x_test, (x_test.shape[0], x_test.shape[1], 1))\n",
    "\n",
    "print(f\"X_test shape: {x_test.shape}\")\n",
    "print(f\"Y_test shape: {y_test.shape}\")"
   ]
  },
  {
   "cell_type": "code",
   "execution_count": null,
   "metadata": {},
   "outputs": [],
   "source": [
    "# Make predictions\n",
    "predictions = model.predict(x_test)\n",
    "predictions = scaler.inverse_transform(predictions)\n",
    "\n",
    "print(f\"Predictions shape: {predictions.shape}\")\n",
    "print(f\"Sample predictions: {predictions[:5].flatten()}\")"
   ]
  },
  {
   "cell_type": "code",
   "execution_count": null,
   "metadata": {},
   "outputs": [],
   "source": [
    "# Calculate metrics\n",
    "from sklearn.metrics import mean_squared_error, mean_absolute_error\n",
    "\n",
    "mse = mean_squared_error(y_test, predictions.flatten())\n",
    "mae = mean_absolute_error(y_test, predictions.flatten())\n",
    "rmse = np.sqrt(mse)\n",
    "\n",
    "print(f\"Mean Squared Error: {mse:.4f}\")\n",
    "print(f\"Root Mean Squared Error: {rmse:.4f}\")\n",
    "print(f\"Mean Absolute Error: {mae:.4f}\")"
   ]
  },
  {
   "cell_type": "code",
   "execution_count": null,
   "metadata": {},
   "outputs": [],
   "source": [
    "# Plot the results\n",
    "plt.figure(figsize=(14, 8))\n",
    "\n",
    "# Get the test dates\n",
    "test_dates = df.index[training_data_len:]\n",
    "\n",
    "plt.plot(test_dates, y_test, color='blue', label='Actual Stock Price', linewidth=2)\n",
    "plt.plot(test_dates, predictions.flatten(), color='red', label='Predicted Stock Price', linewidth=2)\n",
    "\n",
    "plt.title('Apple Stock Price Prediction', fontsize=16)\n",
    "plt.xlabel('Date', fontsize=12)\n",
    "plt.ylabel('Stock Price ($)', fontsize=12)\n",
    "plt.legend(fontsize=12)\n",
    "plt.grid(True, alpha=0.3)\n",
    "plt.xticks(rotation=45)\n",
    "plt.tight_layout()\n",
    "plt.show()\n",
    "\n",
    "print(\"\\nPrediction vs Actual comparison completed!\")\n",
    "print(f\"Model performance metrics saved.\")\n",
    "print(f\"Trained model saved as 'keras_model.h5' - ready for deployment!\")"
   ]
  },
  {
   "cell_type": "code",
   "execution_count": null,
   "metadata": {},
   "outputs": [],
   "source": [
    "# Test compatibility with app.py structure\n",
    "print(\"Testing compatibility with app.py...\")\n",
    "from tensorflow.keras.models import load_model\n",
    "\n",
    "# Load the saved model\n",
    "loaded_model = load_model('keras_model.h5')\n",
    "print(\"✓ Model loads successfully\")\n",
    "\n",
    "# Test prediction format used in app.py\n",
    "sample_prediction = loaded_model.predict(x_test[:1])\n",
    "print(f\"✓ Sample prediction shape: {sample_prediction.shape}\")\n",
    "print(f\"✓ Sample prediction value: {sample_prediction[0][0]:.4f}\")\n",
    "\n",
    "print(\"\\n🎉 Notebook completed successfully!\")\n",
    "print(\"📊 All graphs generated\")\n",
    "print(\"🤖 Model trained and saved\")\n",
    "print(\"✅ Ready for Streamlit app deployment\")"
   ]
  }
 ],
 "metadata": {
  "kernelspec": {
   "display_name": "Python 3",
   "language": "python",
   "name": "python3"
  },
  "language_info": {
   "codemirror_mode": {
    "name": "ipython",
    "version": 3
   },
   "file_extension": ".py",
   "mimetype": "text/x-python",
   "name": "python",
   "nbconvert_exporter": "python",
   "pygments_lexer": "ipython3",
   "version": "3.8.5"
  }
 },
 "nbformat": 4,
 "nbformat_minor": 4
}
